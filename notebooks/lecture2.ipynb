{
 "cells": [
  {
   "cell_type": "markdown",
   "id": "876d5165",
   "metadata": {
    "slideshow": {
     "slide_type": "slide"
    }
   },
   "source": [
    "# Object-oriented scientific programming with C++\n",
    "\n",
    "Matthias Möller, Jonas Thies, Cálin Georgescu, Jingya Li (Numerical Analysis, DIAM)\n",
    "\n",
    "Lecture 2"
   ]
  },
  {
   "cell_type": "markdown",
   "id": "59398614",
   "metadata": {
    "slideshow": {
     "slide_type": "slide"
    }
   },
   "source": [
    "<h1><center>Task: Dot product</center></h1>\n",
    "\n",
    "Write a $\\mathrm{C}++$ code that computes the dot product\n",
    "$$\n",
    "a \\cdot b=\\sum_{i=1}^n a_i b_i\n",
    "$$\n",
    "of two vectors $a=\\left[a_1, a_2, \\ldots, a_n\\right]$ and $b=\\left[b_1, b_2, \\ldots, b_n\\right]$ and terminates if the two vectors have different length."
   ]
  },
  {
   "cell_type": "markdown",
   "id": "00de1935",
   "metadata": {
    "slideshow": {
     "slide_type": "subslide"
    }
   },
   "source": [
    "<h1><center>Dot product function</center></h1>\n",
    "\n",
    "The main functionality without any fail-safe checks"
   ]
  },
  {
   "cell_type": "code",
   "execution_count": null,
   "id": "d8492157",
   "metadata": {
    "tags": []
   },
   "outputs": [],
   "source": [
    "double dot_product(const double* a, int n, const double* b, int m)\n",
    "{\n",
    "    double d=0.0;\n",
    "    for (auto i=0; i<n; i++)\n",
    "        d += a[i]*b[i];\n",
    "    return d;\n",
    "}"
   ]
  },
  {
   "cell_type": "markdown",
   "id": "6bfb7f00",
   "metadata": {
    "slideshow": {
     "slide_type": "subslide"
    },
    "tags": []
   },
   "source": [
    "<h1><center>Dot product function - improved version</center></h1>\n",
    "\n",
    "First version of the dot product with exception"
   ]
  },
  {
   "cell_type": "code",
   "execution_count": null,
   "id": "77d96a85",
   "metadata": {
    "tags": []
   },
   "outputs": [],
   "source": [
    "#include <exception>\n",
    "\n",
    "double dot_product(const double* a, int n, const double* b, int m)\n",
    "{\n",
    "    if (a == nullptr || b == nullptr) {\n",
    "        // Handle null pointers by throwing an exception\n",
    "        throw std::invalid_argument(\"Null pointer argument\");\n",
    "    }\n",
    "\n",
    "    if (n != m) {\n",
    "        // Handle mismatched sizes by throwing an exception\n",
    "        throw std::invalid_argument(\"Array sizes mismatch\");\n",
    "    }\n",
    "\n",
    "    // Core functionality\n",
    "    double d = 0.0;\n",
    "    for (int i = 0; i < n; ++i) {\n",
    "        d += a[i] * b[i];\n",
    "    }\n",
    "    return d;\n",
    "}"
   ]
  },
  {
   "cell_type": "code",
   "execution_count": null,
   "id": "a56e3e96-c884-4b16-aeb9-fbf84fddc800",
   "metadata": {
    "slideshow": {
     "slide_type": "subslide"
    },
    "tags": []
   },
   "outputs": [],
   "source": [
    "#include <iostream>\n",
    "\n",
    "double x[5] = { 1, 2, 3, 4, 5 };\n",
    "double y[4] = { 1, 2, 3, 4 };\n",
    "\n",
    "try { //Trying to run a block of code\n",
    "    double d = dot_product(x, 5, y, 4);\n",
    "} catch (const std::exception &e) { //Catching the error \n",
    "    std::cout << e.what() << std::endl;\n",
    "}"
   ]
  },
  {
   "cell_type": "markdown",
   "id": "b8e06e52",
   "metadata": {
    "slideshow": {
     "slide_type": "fragment"
    }
   },
   "source": [
    "It would be much better if `x` and `y` would \"know\" their length internally so that the calling function cannot provide inconsistent data"
   ]
  },
  {
   "cell_type": "markdown",
   "id": "ac26729d",
   "metadata": {
    "slideshow": {
     "slide_type": "slide"
    }
   },
   "source": [
    "<h1><center>Cool! But what was the reason I enrolled in this course?</center></h1>\n",
    "<center><img src='plots/flashback.png' width=\"400px\"></center>"
   ]
  },
  {
   "cell_type": "markdown",
   "id": "5a0bb6d1",
   "metadata": {
    "slideshow": {
     "slide_type": "slide"
    }
   },
   "source": [
    "<h1><center>Flashback: Object Oriented Programming</center></h1>\n",
    "<p>Imagine each LEGO block as a piece of data (like an integer, string, etc.). A <code>struct</code> or a <code>class</code> is like a LEGO set that contains a variety of different blocks.</p>\n",
    "<ul>\n",
    "    <li>OOP: bundle data (e.g. <code>array</code>) and functionality (e.g. <code>length</code>) into a <code>struct</code> or <code>class</code>\n",
    "    </li>\n",
    "    <li> Components of a <span style = \"color:red;\">struct</span> are <code>public</code> (=can be accessed from\n",
    "outside the struct) by default\n",
    "     </li>\n",
    "    <li> Components of a <span style = \"color:red;\">class</span> are <code>private</code> (=cannot be accessed\n",
    "from outside the class) by default\n",
    "     </li>\n",
    " <li> Components of a struct/class are <span style = \"color:red;\">attributes</span> and <span style = \"color:red;\">member\n",
    "functions (=methods)</span>\n",
    "     </li>\n",
    "</ul>"
   ]
  },
  {
   "cell_type": "markdown",
   "id": "cb3fdc9a",
   "metadata": {
    "slideshow": {
     "slide_type": "slide"
    }
   },
   "source": [
    "<h1><center>Class vs. struct</center></h1>"
   ]
  },
  {
   "cell_type": "code",
   "execution_count": null,
   "id": "35917d43-877b-46d7-972c-532cfb921af1",
   "metadata": {
    "tags": []
   },
   "outputs": [],
   "source": [
    "class Vector {\n",
    "    private: //default\n",
    "    public:\n",
    "        double* array;\n",
    "        int length;\n",
    "};"
   ]
  },
  {
   "cell_type": "code",
   "execution_count": null,
   "id": "116f5b19-218f-4d46-9410-155159b13b7e",
   "metadata": {
    "tags": []
   },
   "outputs": [],
   "source": [
    "struct Vector {\n",
    "    public: // default\n",
    "        double* array;\n",
    "        int length;\n",
    "    private:\n",
    "};"
   ]
  },
  {
   "cell_type": "markdown",
   "id": "25f6d0fa",
   "metadata": {
    "slideshow": {
     "slide_type": "subslide"
    }
   },
   "source": [
    "<p><b>When to use <code>class</code> and when to use <code>struct</code>?</b></p>\n",
    "<ul><li><code>struct</code> is typically used when you want to group data together without needing to restrict access to it. It is straightforward and simple. Many type traits (later in this course) are implemented as <code>struct</code>s.\n",
    "    </li>\n",
    "    <li> <code>class</code> is typically used when you want more control over the data and the interface through which it is accessed and manipulated, promoting the principles of encapsulation and data hiding.\n",
    "        </li>\n",
    "    </ul>"
   ]
  },
  {
   "cell_type": "markdown",
   "id": "5fb04b49",
   "metadata": {
    "slideshow": {
     "slide_type": "slide"
    }
   },
   "source": [
    "<h1><center>Dot product as a member function of Vector</center></h1>\n",
    "\n",
    "Second version of the dot product using Vector class or struct"
   ]
  },
  {
   "cell_type": "code",
   "execution_count": null,
   "id": "637fbc76",
   "metadata": {
    "tags": []
   },
   "outputs": [],
   "source": [
    "#include <exception>\n",
    "\n",
    "class Vector{\n",
    "    public:\n",
    "        double* array;\n",
    "        int length;\n",
    "    \n",
    "    double dot_product(const Vector& a, const Vector& b)\n",
    "    {\n",
    "        if(a.length != b.length) \n",
    "            throw std::invalid_argument(\"Vector lengths mismatch\");\n",
    "        \n",
    "        double d=0.0;\n",
    "        for (auto i=0; i<a.length; i++)\n",
    "            d += a.array[i]*b.array[i];\n",
    "        return d;\n",
    "    }    \n",
    "};"
   ]
  },
  {
   "cell_type": "markdown",
   "id": "9065c92c",
   "metadata": {
    "tags": []
   },
   "source": [
    "Access of members of a <code>struct</code> or <code>class</code> by <b>dot-notation („.“)</b>"
   ]
  },
  {
   "cell_type": "markdown",
   "id": "21d0748b-421f-49c9-859f-eaa81085eec2",
   "metadata": {
    "slideshow": {
     "slide_type": "subslide"
    },
    "tags": []
   },
   "source": [
    "Is the above implementation really OOP? How would you invoke it from the main program?"
   ]
  },
  {
   "cell_type": "code",
   "execution_count": null,
   "id": "2756e20a-199a-40dd-b041-714151eb5308",
   "metadata": {
    "tags": []
   },
   "outputs": [],
   "source": [
    "#include <iostream>\n",
    "\n",
    "Vector x,y;\n",
    "x.array = new double[5]; x.length = 5;\n",
    "y.array = new double[5]; y.length = 5;\n",
    "for (int i = 0; i < 5; ++i) {\n",
    "        x.array[i] = i + 1;  // 1, 2, 3, 4, 5\n",
    "        y.array[i] = i + 1;  // 1, 2, 3, 4, 5\n",
    "}\n",
    " \n",
    "try {\n",
    "    double result = /** ??? **/;\n",
    "    } catch (const std::exception &e) {\n",
    "    std::cout << e.what() << std::endl;\n",
    "}"
   ]
  },
  {
   "cell_type": "markdown",
   "id": "3df90be7-9c6c-4cc3-bbf7-f68c6bd7bc65",
   "metadata": {
    "tags": []
   },
   "source": [
    "The current implementation of the <code>dot_product</code> function comes from functional programming and is not OOP style because it takes two input arguments `x` and `y` and returns one output argument, the dot product. In other words, it is not attached to any object (`x` or `y`)."
   ]
  },
  {
   "cell_type": "markdown",
   "id": "d23d2ba6-1233-4569-86cb-7472c77fbd74",
   "metadata": {
    "slideshow": {
     "slide_type": "subslide"
    },
    "tags": []
   },
   "source": [
    "If we want to implement a function inside a <code>class</code> or <code>struct</code> that is not attached to an object we have to define it as <code>static</code>"
   ]
  },
  {
   "cell_type": "code",
   "execution_count": null,
   "id": "8d394c98",
   "metadata": {
    "tags": []
   },
   "outputs": [],
   "source": [
    "#include <exception>\n",
    "\n",
    "class Vector{\n",
    "    public:\n",
    "        double* array;\n",
    "        int length;\n",
    "    \n",
    "    double dot_product(const Vector& a, const Vector& b)\n",
    "    {\n",
    "        if(a.length != b.length) \n",
    "            throw std::invalid_argument(\"Vector lengths mismatch\");\n",
    "        \n",
    "        double d=0.0;\n",
    "        for (auto i=0; i<a.length; i++)\n",
    "            d += a.array[i]*b.array[i];\n",
    "        return d;\n",
    "    }    \n",
    "};"
   ]
  },
  {
   "cell_type": "markdown",
   "id": "f5bbb4da-b866-4f1d-9578-f851f6215557",
   "metadata": {
    "slideshow": {
     "slide_type": "subslide"
    },
    "tags": []
   },
   "source": [
    "<code>static</code> member functions are invoked with the full classname (comparable to namespaces)"
   ]
  },
  {
   "cell_type": "code",
   "execution_count": null,
   "id": "767a8d52-d3fa-4ce2-90c5-5cab12bdf449",
   "metadata": {
    "tags": []
   },
   "outputs": [],
   "source": [
    "#include <iostream>\n",
    "\n",
    "Vector x,y;\n",
    "x.array = new double[5]; x.length = 5;\n",
    "y.array = new double[5]; y.length = 5;\n",
    "for (int i = 0; i < 5; ++i) {\n",
    "        x.array[i] = i + 1;  // 1, 2, 3, 4, 5\n",
    "        y.array[i] = i + 1;  // 1, 2, 3, 4, 5\n",
    "}\n",
    " \n",
    "try {\n",
    "    double result = Vector::dot_product(x, y);\n",
    "    } catch (const std::exception &e) {\n",
    "    std::cout << e.what() << std::endl;\n",
    "}"
   ]
  },
  {
   "cell_type": "markdown",
   "id": "412bd54a",
   "metadata": {
    "slideshow": {
     "slide_type": "subslide"
    }
   },
   "source": [
    "<ul>\n",
    "<li> It is still possible to initialise <code>x.length</code> by the wrong value, e.g.,\n",
    "    </li>\n",
    "    <p><code>x.array = new double[5] {1, 2, 3, 4, 5}; x.length = 4;</code></p>\n",
    " <li>The main function is not very readable due to the lengthy\n",
    "declaration, initialisation and deletion of data\n",
    "     </li>\n",
    "    <li>OOP solution:\n",
    "        </li>\n",
    "    <ul>\n",
    "        <li><b>Constructor(s):</b> <span style=\"color:red;\">method</span> to construct a new <span style=\"color:red;\">Vector object</span>\n",
    "            </li>\n",
    "        <li><b>Destructor:</b> <span style=\"color:red;\">method</span> to destruct an existing <span style=\"color:red;\">Vector object</span>\n",
    "            </li>\n",
    "        </ul>\n",
    "</ul>"
   ]
  },
  {
   "cell_type": "markdown",
   "id": "276ae022",
   "metadata": {
    "slideshow": {
     "slide_type": "slide"
    }
   },
   "source": [
    "<h1><center>Constructor</center></h1>\n",
    "\n",
    "The <b>constructor</b> is called each time a new Vector object (=instance of the class Vector) is created"
   ]
  },
  {
   "cell_type": "code",
   "execution_count": null,
   "id": "7783126e",
   "metadata": {
    "slideshow": {
     "slide_type": "subslide"
    },
    "tags": []
   },
   "outputs": [],
   "source": [
    "class Vector\n",
    "{\n",
    "    public:\n",
    "        double* array;\n",
    "        int length;\n",
    "    \n",
    "    Vector() // Default constructor\n",
    "    {\n",
    "        array = nullptr;\n",
    "        length = 0;\n",
    "    }\n",
    "};"
   ]
  },
  {
   "cell_type": "markdown",
   "id": "ba2b6b0e",
   "metadata": {
    "slideshow": {
     "slide_type": "subslide"
    }
   },
   "source": [
    "A class can have <b>multiple constructors</b> if they have a different interface (=different parameters)"
   ]
  },
  {
   "cell_type": "code",
   "execution_count": null,
   "id": "0a655a26",
   "metadata": {
    "slideshow": {
     "slide_type": "subslide"
    },
    "tags": []
   },
   "outputs": [],
   "source": [
    "class Vector\n",
    "{\n",
    "    public:\n",
    "        double* array;\n",
    "        int length;\n",
    "    \n",
    "    Vector() // Default constructor\n",
    "    {\n",
    "        array = nullptr;\n",
    "        length = 0;\n",
    "    }\n",
    "    \n",
    "    Vector(int len) // Another constructor\n",
    "    {\n",
    "        array = new double[len];\n",
    "        length = len;\n",
    "    }\n",
    "};"
   ]
  },
  {
   "cell_type": "markdown",
   "id": "1ef93da1",
   "metadata": {
    "slideshow": {
     "slide_type": "subslide"
    }
   },
   "source": [
    "What if a parameter has the same name as an attribute?"
   ]
  },
  {
   "cell_type": "code",
   "execution_count": null,
   "id": "4034efd6",
   "metadata": {
    "slideshow": {
     "slide_type": "subslide"
    },
    "tags": []
   },
   "outputs": [],
   "source": [
    "class Vector\n",
    "{\n",
    "    public:\n",
    "        double* array;\n",
    "        int length;\n",
    "    \n",
    "    Vector(int length) // Another constructor\n",
    "    {\n",
    "        // this pointer refers to the object itself,\n",
    "        // hence this->length is the attribute and length\n",
    "        // is the parameter passed to the constructor\n",
    "\n",
    "        array = new double[length];\n",
    "        this->length = length;\n",
    "    }\n",
    "}; "
   ]
  },
  {
   "cell_type": "markdown",
   "id": "5708f6a6",
   "metadata": {
    "slideshow": {
     "slide_type": "slide"
    }
   },
   "source": [
    "<h1><center>Destructor</center></h1>\n",
    "\n",
    "The <b>destructor</b> is called implicitly at the end of the lifetime of a Vector object, e.g., at the end of its scope"
   ]
  },
  {
   "cell_type": "code",
   "execution_count": null,
   "id": "ae4c1e5d",
   "metadata": {
    "slideshow": {
     "slide_type": "fragment"
    },
    "tags": []
   },
   "outputs": [],
   "source": [
    "class Vector\n",
    "{\n",
    "    public:\n",
    "        double* array;\n",
    "        int length;\n",
    "    \n",
    "    ~Vector() // Destructor (and there can be only one!)\n",
    "    {\n",
    "        delete[] array;\n",
    "        length = 0;\n",
    "    }\n",
    "};"
   ]
  },
  {
   "cell_type": "markdown",
   "id": "4133f84f",
   "metadata": {
    "slideshow": {
     "slide_type": "subslide"
    }
   },
   "source": [
    "Cleaning up the main program with constructors and (implicitly invoked) destructors\n",
    "\n",
    "<code>int main(){\n",
    "    Vector x; // Default constructor is called\n",
    "    {\n",
    "        Vector y(5); // Constructor is called\n",
    "        // Destructor is called for Vector y\n",
    "    }\n",
    "    // Destructor is called for Vector x\n",
    "  }</code>\n",
    "\n",
    "Without <code>array = nullptr</code> in the default constructor the destruction of <code>x</code> will lead to a run-time error."
   ]
  },
  {
   "cell_type": "markdown",
   "id": "cf7475d7",
   "metadata": {
    "slideshow": {
     "slide_type": "slide"
    },
    "tags": []
   },
   "source": [
    "<h1><center>Uniform initialisation constructors (C++11)</center></h1>\n",
    "\n",
    "Remember this\n",
    "<code>double x[5] = { 1, 2, 3, 4, 5 };</code>\n",
    "\n",
    "It would be cool to simply write\n",
    "<code>Vector x = { 1, 2, 3, 4, 5 };</code>\n",
    "\n",
    "\n",
    "C++11 solution: <b>initializer lists</b>\n",
    "\n",
    "<code>Vector(const <span style=color:red;>std::initializer_list&ltdouble&gt&amp list</span>) {\n",
    "    length = <span style=color:red;>(int)list.size()</span>;\n",
    "    array = new double[length]; \n",
    "    <span style=color:red;>std::uninitialized_copy(list.begin(), list.end(), array);</span>\n",
    "}</code>"
   ]
  },
  {
   "cell_type": "code",
   "execution_count": null,
   "id": "e9ecf2c0",
   "metadata": {
    "slideshow": {
     "slide_type": "subslide"
    },
    "tags": []
   },
   "outputs": [],
   "source": [
    "#include <initializer_list>\n",
    "#include <memory>\n",
    "\n",
    "class Vector {\n",
    "private:\n",
    "    double* array;\n",
    "    int length;\n",
    "\n",
    "public:\n",
    "    // Constructor with initializer list\n",
    "    Vector(const std::initializer_list<double>& list)\n",
    "    {\n",
    "        length = (int)list.size();\n",
    "        array = new double[length];\n",
    "        std::uninitialized_copy(list.begin(), list.end(), array);\n",
    "    }\n",
    "    \n",
    "    // Destructor\n",
    "    ~Vector() {\n",
    "        delete[] array;\n",
    "    }\n",
    "};"
   ]
  },
  {
   "cell_type": "markdown",
   "id": "afd5b6f8",
   "metadata": {
    "slideshow": {
     "slide_type": "slide"
    }
   },
   "source": [
    "<h1><center>Dot product – close to perfection</center></h1>\n",
    "\n",
    "Third version of the dot product using Vector class with <b>uniform initialisation constructor</b> (C++11) and exceptions\n",
    "\n",
    "<code>int main()\n",
    "{\n",
    "    Vector x = { 1, 2, 3, 4, 5 };\n",
    "    Vector y = { 2, 4, 6, 8, 10};\n",
    "    try {\n",
    "        double dot_product(x, y);\n",
    "        } catch (const std::exception &e) {\n",
    "    std::cout &lt&lt e.what() &lt&lt std::endl;\n",
    "    }\n",
    "}</code>"
   ]
  },
  {
   "cell_type": "markdown",
   "id": "c0b1a899",
   "metadata": {
    "slideshow": {
     "slide_type": "slide"
    },
    "tags": []
   },
   "source": [
    "<h1><center>Delegating constructor (C++11)</center></h1>\n",
    "\n",
    "Can we delegate some of the work"
   ]
  },
  {
   "cell_type": "code",
   "execution_count": null,
   "id": "e900f59b",
   "metadata": {
    "slideshow": {
     "slide_type": "subslide"
    },
    "tags": []
   },
   "outputs": [],
   "source": [
    "#include <memory>\n",
    "#include <initializer_list>\n",
    "\n",
    "class Vector {\n",
    "private:\n",
    "    double* array;\n",
    "    int length;\n",
    "\n",
    "public:\n",
    "    Vector(int length)\n",
    "    {\n",
    "        this->length = length;\n",
    "        array = new double[length];\n",
    "    }\n",
    "    \n",
    "    Vector(const std::initializer_list<double>& list)\n",
    "    {\n",
    "        length = (int)list.size();\n",
    "        array = new double[length];\n",
    "        std::uninitialized_copy(list.begin(), list.end(), array);\n",
    "    } \n",
    "}    "
   ]
  },
  {
   "cell_type": "markdown",
   "id": "310e8ce7",
   "metadata": {
    "slideshow": {
     "slide_type": "subslide"
    }
   },
   "source": [
    "<b>Delegating constructors</b> delegate part of the work to\n",
    "another constructor of the same or another class\n",
    "\n",
    "<code>Vector(int length) \n",
    "    : length(length), array(new double[length])\n",
    "{ }</code>\n",
    "\n",
    "<ul>\n",
    "<li>Here, delegation is not really helpful but more a question\n",
    "of coding style, e.g., some programmers use delegation in\n",
    "    all situation where this is technically possible</li>\n",
    "\n",
    "<li>It is no longer necessary to distinguish between the\n",
    "<b>attribute</b> (<code>this->length</code>) and the <b>argument</b> (<code>length</code>) if both\n",
    "have the same name. But be careful with the order in\n",
    "    which delegated objects are constructed!</li>\n",
    "</ul>"
   ]
  },
  {
   "cell_type": "markdown",
   "id": "5378508f",
   "metadata": {
    "slideshow": {
     "slide_type": "slide"
    }
   },
   "source": [
    "<h1><center>Quiz</center></h1>\n",
    "<div class=\"left1\", style=\"width:50%;height:90%; float:left;\">\n",
    "    <ul>\n",
    "    <li><code>Vector(int len)\n",
    "  : length(len),\n",
    "    array(new double[len])\n",
    "  {}</code></li>\n",
    "     <li><code>Vector(int len)\n",
    "  : array(new double[len]),\n",
    "    length(len)\n",
    "  {}</code>\n",
    "      </li>\n",
    "     </ul>\n",
    "</div>\n",
    "<div class=\"right1\", style=\"width:50%;height:90%; float:right;\">\n",
    "    <ul>\n",
    "    <li><code>Vector(int len)\n",
    "  : length(len),\n",
    "    array(new double[lengh])\n",
    "  {}</code></li>\n",
    "     <li><code>Vector(int len)\n",
    "  : array(new double[length]),\n",
    "    length(len)\n",
    "  {}</code>\n",
    "      </li>\n",
    "     </ul>\n",
    "</div>"
   ]
  },
  {
   "cell_type": "markdown",
   "id": "0fd11e67",
   "metadata": {
    "slideshow": {
     "slide_type": "subslide"
    },
    "tags": []
   },
   "source": [
    "If you have multiple constructors with increasing functionality, <b>delegating constructors</b> can be really helpful to remove duplicate code, e.g.\n",
    "\n",
    "<code>Vector(const std::initializer_list&ltdouble>& list)\n",
    ": Vector((int)list.size())\n",
    "{\n",
    "    std::uninitialized_copy(list.begin(),\n",
    "                            list.end(), array);\n",
    "}</code>"
   ]
  },
  {
   "cell_type": "markdown",
   "id": "58ab6c05",
   "metadata": {
    "slideshow": {
     "slide_type": "slide"
    },
    "tags": []
   },
   "source": [
    "<h1><center>Function -> member function</center></h1>\n",
    "\n",
    "Function that computes the sum of a Vector\n",
    "\n",
    "<code>static double sum(const Vector& a)\n",
    "{\n",
    "    double s = 0;\n",
    "    for (auto i=0; i&lta.length; i++)\n",
    "        s += a.array[i];\n",
    "    return s;\n",
    "}</code>\n",
    "\n",
    "This is not really OOP-style!\n",
    "\n",
    "<code>int main() {\n",
    " Vector x = { 1, 2, 3, 4, 5 };\n",
    " std::cout &lt< sum(x) &lt< std::endl; \n",
    "}</code>\n"
   ]
  },
  {
   "cell_type": "markdown",
   "id": "b6a9be11",
   "metadata": {
    "slideshow": {
     "slide_type": "subslide"
    },
    "tags": []
   },
   "source": [
    "Implementation of <code>sum</code> as an OOP-style member function"
   ]
  },
  {
   "cell_type": "code",
   "execution_count": null,
   "id": "938ea41b",
   "metadata": {
    "slideshow": {
     "slide_type": "slide"
    },
    "tags": []
   },
   "outputs": [],
   "source": [
    "#include <memory>\n",
    "#include <initializer_list>\n",
    "\n",
    "class Vector {\n",
    "    private:\n",
    "        double* array;\n",
    "        int length;\n",
    "    \n",
    "    public:\n",
    "        Vector(const std::initializer_list<double>& list) {\n",
    "            length = static_cast<int>(list.size());\n",
    "            array = new double[length];\n",
    "            std::uninitialized_copy(list.begin(), list.end(), array);\n",
    "        }\n",
    "        \n",
    "        ~Vector() {\n",
    "            delete[] array;\n",
    "        }\n",
    "    \n",
    "        double sum() {\n",
    "            double s = 0;\n",
    "            for (int i = 0; i < length; i++) {\n",
    "                s += array[i];\n",
    "            }\n",
    "            return s;\n",
    "        }\n",
    "};"
   ]
  },
  {
   "cell_type": "markdown",
   "id": "fe1a3a38",
   "metadata": {
    "slideshow": {
     "slide_type": "subslide"
    },
    "tags": []
   },
   "source": [
    " This is good OOP-style\n",
    "\n",
    "<code>Vector v = {1.0, 2.0, 3.0};\n",
    "std::cout &lt< <span style=color:red;>v.sum()</span> &lt< std::endl;</code>"
   ]
  },
  {
   "cell_type": "markdown",
   "id": "ccf5de20",
   "metadata": {
    "slideshow": {
     "slide_type": "slide"
    }
   },
   "source": [
    "Can we implement the <code>dot_product</code> function as a member function?"
   ]
  },
  {
   "cell_type": "code",
   "execution_count": null,
   "id": "e243ce36",
   "metadata": {
    "slideshow": {
     "slide_type": "fragment"
    },
    "tags": []
   },
   "outputs": [],
   "source": [
    "#include <exception>\n",
    "\n",
    "class Vector {\n",
    "    private:\n",
    "        double* array;\n",
    "        int length;\n",
    "    \n",
    "    public:\n",
    "        double dot_product(const Vector& other) {\n",
    "            if (length != other.length)\n",
    "                throw std::invalid_argument(\"Vector lengths mismatch\");\n",
    "            \n",
    "            double d=0.0;\n",
    "            for (auto i=0; i<length; i++)\n",
    "                d += array[i]*other.array[i];\n",
    "            return d;\n",
    "        }\n",
    "};"
   ]
  },
  {
   "cell_type": "markdown",
   "id": "a16793a3",
   "metadata": {
    "slideshow": {
     "slide_type": "subslide"
    }
   },
   "source": [
    "This is good OOP-style\n",
    "\n",
    "<code>int main()\n",
    "{\n",
    "    Vector x = {1,2,3}; Vector y = {2,4,6};\n",
    "    std::cout &lt< x.dot_product(y) &lt< std::endl;\n",
    "    std::cout &lt< y.dot_product(x) &lt< std::endl;\n",
    "}</code>\n",
    "\n",
    "Formally, the dot product is an operation between two\n",
    "Vector objects and not a member function of one Vector\n",
    "object that needs another Vector object for calculation"
   ]
  },
  {
   "cell_type": "markdown",
   "id": "c70addbd",
   "metadata": {
    "slideshow": {
     "slide_type": "slide"
    },
    "tags": []
   },
   "source": [
    "<h1><center>Operator overloading</center></h1>\n",
    "C++ allows to overload (=redefine) the standard operators\n",
    "\n",
    "- Unary operators: `++a`, `a++`, `--a`, `a--`, `~a`, `!a`\n",
    "- Binary operators: `a+b`, `a-b`, `a*b`, `a/b`\n",
    "- Relational operators: `a==b`, `a!=b`, `a<b`, `a<=b`, `a>b`, `a>=b`\n",
    "\n",
    "Interfaces:\n",
    "\n",
    "<code><span style=color:red>\n",
    "return_type operator()                    [const]\n",
    "return_type operator(const Vector& other) [const]</span></code></p>\n",
    " \n",
    "[Complete list:](https://en.cppreference.com/w/cpp/language/operators)https://en.cppreference.com/w/cpp/language/operators"
   ]
  },
  {
   "cell_type": "markdown",
   "id": "257182ca",
   "metadata": {
    "slideshow": {
     "slide_type": "subslide"
    },
    "tags": []
   },
   "source": [
    "Implementation of dot product as <b>overloaded *-operator</b>\n",
    "\n",
    "<code><span style=color:red;>double operator*(const Vector&amp other) const</span>\n",
    "    {\n",
    "        if (length != other.length)\n",
    "                throw std::invalid_argument(\"Vector lengths mismatch\");\n",
    "        double d=0.0;\n",
    "        for (auto i=0; i&ltlength; i++)\n",
    "            d += array[i]*other.array[i];\n",
    "        return d;\n",
    "}</code>"
   ]
  },
  {
   "cell_type": "markdown",
   "id": "d5960faa",
   "metadata": {
    "slideshow": {
     "slide_type": "subslide"
    },
    "tags": []
   },
   "source": [
    "Now, the dot product is implemented as <b>*-operator</b> that\n",
    "maps two Vector objects to a scalar value\n",
    "\n",
    "<code>int main()\n",
    "{\n",
    "    Vector x = {1,2,3}; Vector y = {2,4,6};\n",
    "    std::cout &lt< <span style=color:red;>x * y</span> &lt< std::endl;\n",
    "    std::cout &lt< <span style=color:red;>y * x</span> &lt< std::endl;\n",
    "}</code>"
   ]
  },
  {
   "cell_type": "markdown",
   "id": "6719164c-c1f7-498a-822c-5bb7fb8e0d92",
   "metadata": {
    "slideshow": {
     "slide_type": "subslide"
    },
    "tags": []
   },
   "source": [
    "The <span style=color:blue;>const</span> specifier indicates that the Vector reference <code>other</code> must not be modified by the <b>*-operator</b>\n",
    "\n",
    "The trailing <span style=color:red;>const</span> specifier indicates that the <code>this</code> pointer (aka, the object whose function is invoked) must not be modified by the <b>*-operator</b>\n",
    "\n",
    "<code>double operator*(<span style=color:blue;>const</span> Vector&amp other) <span style=color:red;>const</span> { ... }</code>"
   ]
  },
  {
   "cell_type": "markdown",
   "id": "37e996c0",
   "metadata": {
    "slideshow": {
     "slide_type": "slide"
    },
    "tags": []
   },
   "source": [
    "<h1><center>Assignment by operator overloading</center></h1>\n",
    "\n",
    "Implementation of assignment as <b>overloaded =-operator</b>\n",
    "\n",
    "<code><span style=color:red;>Vector&amp; operator=(const Vector&amp; other)</span>\n",
    "{\n",
    "    if (this != &amp;other)\n",
    "    {\n",
    "        length = other.length;\n",
    "        delete[] array;\n",
    "        array = new double[length];\n",
    "        for (auto i=0; i&lt;length; ++i)\n",
    "            array[i] = other.array[i];\n",
    "    }\n",
    "    return *this;\n",
    "}</code>\n",
    "\n",
    "- Usage: <code>Vector x, y; x = y;</code>\n",
    "- Note that the <code>this</code> pointer is modified so there must not be a trailing <code>const</code>"
   ]
  },
  {
   "cell_type": "markdown",
   "id": "9242b8b7-6046-4ad1-8f2f-16d8d737f44b",
   "metadata": {
    "slideshow": {
     "slide_type": "subslide"
    },
    "tags": []
   },
   "source": [
    "Implementation of incremental assignment as <b>overloaded =-operator</b>\n",
    "\n",
    "<code><span style=color:red;>Vector&amp operator+=(const Vector&amp other)</span>\n",
    "{\n",
    "    if(length != other.length) \n",
    "        throw std::invalid_argument(\"Vector lengths mismatch\");\n",
    "    for (auto i=0; i&lt;length; i++)\n",
    "        array[i] += other.array[i];\n",
    "    return *this;\n",
    "}</code>\n",
    "\n",
    "- Usage: <code>Vector x, y; x += y;</code>\n",
    "- Note that the <code>this</code> pointer is modified so there must not be a trailing <code>const</code>"
   ]
  },
  {
   "cell_type": "markdown",
   "id": "6de0c1bd",
   "metadata": {
    "slideshow": {
     "slide_type": "skip"
    },
    "tags": []
   },
   "source": [
    "<h1><center>Container class</center></h1>"
   ]
  },
  {
   "cell_type": "code",
   "execution_count": null,
   "id": "c7111714",
   "metadata": {
    "slideshow": {
     "slide_type": "skip"
    },
    "tags": []
   },
   "outputs": [],
   "source": [
    "#include <iostream>\n",
    "#include <initializer_list>\n",
    "#include <algorithm>\n",
    "\n",
    "class Container {\n",
    "private:\n",
    "    int size;\n",
    "    double* elements;\n",
    "\n",
    "public:\n",
    "    // Default constructor\n",
    "    Container() : size(0), elements(nullptr) {\n",
    "        std::cout << \"Default constructor called\" << std::endl;\n",
    "    }\n",
    "\n",
    "    // Converting constructor: can also initialize Container with an int\n",
    "    Container(int length) : size(length), elements(new double[length]) {\n",
    "        std::cout << \"Converting constructor (from int) called\" << std::endl;\n",
    "        std::fill(elements, elements + size, 0.0);\n",
    "    }\n",
    "\n",
    "    // Converting constructor: can also initialize Container with an initializer_list\n",
    "    Container(const std::initializer_list<double>& list) \n",
    "    : size(static_cast<int>(list.size())), elements(new double[size]) {\n",
    "        std::cout << \"Converting constructor (from initializer_list) called\" << std::endl;\n",
    "        std::copy(list.begin(), list.end(), elements);\n",
    "    }\n",
    "\n",
    "    // Explicit constructor to prevent implicit conversions from a single float\n",
    "    explicit Container(float initial_value) : size(1), elements(new double[1]) {\n",
    "        std::cout << \"Explicit constructor called\" << std::endl;\n",
    "        elements[0] = initial_value;\n",
    "    }\n",
    "\n",
    "    // Copy constructor\n",
    "    Container(const Container& other) : size(other.size), elements(new double[other.size]) {\n",
    "        std::cout << \"Copy constructor called\" << std::endl;\n",
    "        std::copy(other.elements, other.elements + size, elements);\n",
    "    }\n",
    "\n",
    "    // Move constructor\n",
    "    Container(Container&& other) noexcept : size(other.size), elements(other.elements) {\n",
    "        std::cout << \"Move constructor called\" << std::endl;\n",
    "        other.size = 0;\n",
    "        other.elements = nullptr;\n",
    "    }\n",
    "\n",
    "    // Destructor\n",
    "    ~Container() {\n",
    "        std::cout << \"Destructor called\" << std::endl;\n",
    "        delete[] elements;\n",
    "    }\n",
    "\n",
    "    // Copy assignment operator\n",
    "    Container& operator=(const Container& other) {\n",
    "        std::cout << \"Copy assignment operator called\" << std::endl;\n",
    "        if (this != &other) { // Protect against self-assignment\n",
    "            delete[] elements; // Free the existing resource.\n",
    "            size = other.size;\n",
    "            elements = new double[size];\n",
    "            std::copy(other.elements, other.elements + size, elements);\n",
    "        }\n",
    "        return *this;\n",
    "    }\n",
    "\n",
    "    // Move assignment operator\n",
    "    Container& operator=(Container&& other) noexcept {\n",
    "        std::cout << \"Move assignment operator called\" << std::endl;\n",
    "        if (this != &other) { // Prevent self-assignment\n",
    "            delete[] elements; // Free the existing resource.\n",
    "            size = other.size;\n",
    "            elements = other.elements;\n",
    "            other.size = 0;\n",
    "            other.elements = nullptr;\n",
    "        }\n",
    "        return *this;\n",
    "    }\n",
    "\n",
    "    // A simple print function to show the contents\n",
    "    void print() const {\n",
    "        for (int i = 0; i < size; ++i) {\n",
    "            std::cout << elements[i] << \" \";\n",
    "        }\n",
    "        std::cout << std::endl;\n",
    "    }\n",
    "};\n",
    "\n",
    "int main() {\n",
    "    Container defaultContainer; // Calls default constructor\n",
    "\n",
    "    Container fromInt = 5; // Calls converting constructor with an int\n",
    "    fromInt.print();\n",
    "\n",
    "    Container fromList = {1.0, 2.0, 3.0}; // Calls converting constructor with an initializer_list\n",
    "    fromList.print();\n",
    "\n",
    "    // The line below will cause a compile-time error due to the 'explicit' keyword\n",
    "    // Container fromFloat = 2.5f; // Error\n",
    "    Container fromFloat(2.5f); // Calls explicit constructor\n",
    "    fromFloat.print();\n",
    "\n",
    "    Container copyContainer = fromList; // Calls copy constructor\n",
    "    copyContainer.print();\n",
    "\n",
    "    // Assigning a new value to copyContainer using copy assignment operator\n",
    "    copyContainer = fromInt;\n",
    "    copyContainer.print();\n",
    "\n",
    "    Container moveContainer; // Calls default constructor\n",
    "    moveContainer = std::move(copyContainer); // Calls move assignment operator\n",
    "    moveContainer.print();\n",
    "\n",
    "    return 0;\n",
    "}"
   ]
  },
  {
   "cell_type": "markdown",
   "id": "6bcfdf28",
   "metadata": {
    "slideshow": {
     "slide_type": "slide"
    }
   },
   "source": [
    "<h1><center>Container class</center></h1>\n",
    "<code>class Container {\n",
    "private:\n",
    "    double* data;\n",
    "    int length;\n",
    "public:\n",
    "    Container(int length)\n",
    "    : length(length), data(new double[length])\n",
    "    { }\n",
    "    Container(const std::initializer_list&lt;double&gt;&amp; l)\n",
    "    : Container( (int)l.size() )\n",
    "    {\n",
    "        std::uninitialized_copy(l.begin(), l.end(), data);\n",
    "    }\n",
    "};</code>"
   ]
  },
  {
   "cell_type": "markdown",
   "id": "41cb11de",
   "metadata": {
    "slideshow": {
     "slide_type": "slide"
    }
   },
   "source": [
    "<h1><center>Conversion constructors</center></h1>\n",
    "\n",
    "Both constructors convert a single input argument into a Container object, hence, they are called <b>conversion constructors</b>. They can be called in two different ways\n",
    "<ul>\n",
    "<li>Using the regular construction form</li>\n",
    "<code>Container a( 4 );\n",
    "Container a( {1,2,3,4} );</code>\n",
    "<li>Using copy initialisation</li>\n",
    "<code>Container a = 4;         // -> Container a( 4 )\n",
    "Container a = {1,2,3,4}; // -> Container a( {1,2,3,4} )\n",
    "Container a = {4};       // which constructor is called?</code>\n",
    "</ul>"
   ]
  },
  {
   "cell_type": "markdown",
   "id": "9da21506",
   "metadata": {
    "slideshow": {
     "slide_type": "slide"
    }
   },
   "source": [
    "<h1><center>Explicit specifier</center></h1>\n",
    "\n",
    "The <b>explicit specifier</b> prevents the use of the constructor as conversion constructor\n",
    "\n",
    "<code>explicit Container(int length) \n",
    "    : length(length), data(new double[length])\n",
    "    { }\n",
    "}</code>\n",
    "\n",
    "Now, copy-initialisation (<code>Container a = 4;</code>) is no longer possible\n",
    "but explicit constructor (<code>Container a(  4 );</code>) has to be used"
   ]
  },
  {
   "cell_type": "markdown",
   "id": "f41a401c",
   "metadata": {
    "slideshow": {
     "slide_type": "slide"
    }
   },
   "source": [
    "<h1><center>Constructors summary</center></h1>\n",
    "\n",
    "<table>\n",
    "<center>\n",
    "  <tr>\n",
    "    <th style=\"text-align:left;\">Constructor</th>\n",
    "    <th style=\"text-align:left;\">Description</th>\n",
    "    <th style=\"text-align:left;\">Usage</th>\n",
    "  </tr>\n",
    "  <tr>\n",
    "    <td  style=\"text-align:left;\">Default</td>\n",
    "    <td  style=\"text-align:left;\">Constructor with no parameters.</td>\n",
    "    <td style=\"text-align:left;\">Used to create an object with default values.</td>\n",
    "  </tr>\n",
    "  <tr>\n",
    "    <td style=\"text-align:left;\">Parameterized</td>\n",
    "    <td style=\"text-align:left;\">Constructor with parameters to initialize an object with specific values.</td>\n",
    "    <td style=\"text-align:left;\">Used to create an object with specified attributes.</td>\n",
    "  </tr>\n",
    "  <tr>\n",
    "    <td style=\"text-align:left;\">Copy</td>\n",
    "    <td style=\"text-align:left;\">A constructor that initializes an object using another object of the same class.</td>\n",
    "    <td style=\"text-align:left;\">Used to create a copy of an object.</td>\n",
    "  </tr>\n",
    "  <tr>\n",
    "    <td style=\"text-align:left;\">Explicit</td>\n",
    "    <td style=\"text-align:left;\">Constructor with the explicit keyword to prevent implicit conversions or copy-initialization.</td>\n",
    "    <td style=\"text-align:left;\">Used to enforce explicit object creation with constructor.</td>\n",
    "  </tr>\n",
    "</center>\n",
    "</table>\n",
    "\n"
   ]
  },
  {
   "cell_type": "markdown",
   "id": "a8d2812d",
   "metadata": {
    "slideshow": {
     "slide_type": "slide"
    }
   },
   "source": [
    "<h1><center>Task: Numerical integration</center></h1>\n",
    "<ul>\n",
    "    <li>Approximate a one-dimensional integral by numerical quadrature</li>\n",
    "    $$\\int_a^bf(x)dx \\approx \\sum_{i=1}^n w_i f\\left(x_i\\right)$$\n",
    "    <li>Choice of quadrature weights $w_i$ and points $x_i$ determines\n",
    "        the concrete numerical integration rule</li>\n",
    "</ul>\n",
    "    "
   ]
  },
  {
   "cell_type": "markdown",
   "id": "84a5ecaf",
   "metadata": {
    "slideshow": {
     "slide_type": "slide"
    }
   },
   "source": [
    "<h1><center>Simple integration rules</center></h1>\n",
    "<ul>\n",
    "    <li>Midpoint rule\n",
    "        </li>\n",
    "    $$\\int_a^b f(x) d x \\approx(b-a) \\cdot f\\left(\\frac{a+b}{2}\\right)$$\n",
    "    <li>Simpson rule\n",
    "        </li>\n",
    "    $$\\int_a^b f(x) d x \\approx \\frac{b-a}{6}\\left[f(a)+4 f\\left(\\frac{a+b}{2}\\right)+f(b)\\right]$$\n",
    "    <li>Rectangle rule\n",
    "        </li>\n",
    "    $$\\int_a^b f(x) d x \\approx h \\sum_{n=0}^{N-1} f\\left(x_n\\right), \\quad h=\\frac{b-a}{N}, \\quad x_n=a+n h$$\n",
    "    </ul>"
   ]
  },
  {
   "cell_type": "markdown",
   "id": "9bcf5ae9",
   "metadata": {
    "slideshow": {
     "slide_type": "slide"
    }
   },
   "source": [
    "<h1><center>Gauss integration rules</center></h1>\n",
    "<div class=\"left\", style=\"width:50%;height:70%; float:left;\"> \n",
    "    <ul>\n",
    "        <li>Zoo of Gauss integration rules with quadrature weights and points tabulated for the reference interval [-1,1]\n",
    "            </li>\n",
    "        <li> Complete list of weights/points is available, e.g., at Wikipedia\n",
    "            </li>\n",
    "        </ul>\n",
    "</div>\n",
    "<div class=\"right\", style=\"width:50%;height:70%; float:right;\"> \n",
    "<table>\n",
    "      <tr>\n",
    "    <th style=\"text-align:left;\">$n$</th>\n",
    "    <th style=\"text-align:left;\">$\\xi_{i}$</th>\n",
    "    <th style=\"text-align:left;\">$w_i$</th>\n",
    "  </tr>\n",
    "      <tr>\n",
    "    <td  style=\"text-align:left;\">1</td>\n",
    "    <td  style=\"text-align:left;\">0</td>\n",
    "    <td style=\"text-align:left;\">2</td>\n",
    "  </tr>\n",
    "       <tr>\n",
    "    <td  style=\"text-align:left;\">2</td>\n",
    "    <td  style=\"text-align:left;\">-0.57735026919</td>\n",
    "    <td style=\"text-align:left;\">2</td>    \n",
    "  </tr>\n",
    "    <tr>\n",
    "    <td  style=\"text-align:left;\"></td>\n",
    "    <td  style=\"text-align:left;\">0.57735026919</td>\n",
    "    <td style=\"text-align:left;\">1</td>     \n",
    "  </tr>\n",
    "        <tr>\n",
    "    <td  style=\"text-align:left;\">3</td>\n",
    "    <td  style=\"text-align:left;\">-0.774596669241</td>\n",
    "    <td style=\"text-align:left;\">5/9</td>     \n",
    "  </tr>\n",
    "            <tr>\n",
    "    <td  style=\"text-align:left;\"></td>\n",
    "    <td  style=\"text-align:left;\">0.0</td>\n",
    "    <td style=\"text-align:left;\">8/9</td>     \n",
    "  </tr>\n",
    "            <tr>\n",
    "    <td  style=\"text-align:left;\"></td>\n",
    "    <td  style=\"text-align:left;\">0.774596669241</td>\n",
    "    <td style=\"text-align:left;\">5/9</td>     \n",
    "  </tr>\n",
    "            <tr>\n",
    "    <td  style=\"text-align:left;\">4</td>\n",
    "    <td  style=\"text-align:left;\">-0.861136311594053</td>\n",
    "    <td style=\"text-align:left;\">0.347854845137454</td>     \n",
    "  </tr>\n",
    "            <tr>\n",
    "    <td  style=\"text-align:left;\"></td>\n",
    "    <td  style=\"text-align:left;\">-0.339981043584856</td>\n",
    "    <td style=\"text-align:left;\">0.652145154862546</td>     \n",
    "  </tr>\n",
    "  <tr>\n",
    "    <td  style=\"text-align:left;\"></td>\n",
    "    <td  style=\"text-align:left;\">0.774596669241</td>\n",
    "    <td style = \"text-align:left;\">0.652145154862546</td>\n",
    "  </tr>\n",
    "  <tr>\n",
    "    <td  style=\"text-align:left;\"></td>\n",
    "    <td  style=\"text-align:left;\">0.861136311594053</td>\n",
    "    <td style =\"text-align:left;\">0.347854845137454</td>\n",
    "  </tr>\n",
    "    </table>\n",
    "</div>"
   ]
  },
  {
   "cell_type": "markdown",
   "id": "c1e5486d",
   "metadata": {
    "slideshow": {
     "slide_type": "subslide"
    }
   },
   "source": [
    "<ul>\n",
    "    <li>Change of variable theorem\n",
    "        </li>\n",
    "    $$\\int_{a}^{b} f(x)dx = \\int_{-1}^{1}f(\\phi(t))\\phi^{i}(t)dt$$\n",
    "    <li>Mapping from interval [a,b] to interval [-1,1]\n",
    "        </li>\n",
    "        $$\\phi(t) = \\frac{b-a}{2}t + \\frac{a+b}{2}, \\phi^{'}(t) = \\frac{b-a}{2}$$\n",
    "    <li>Numerical quadrature rule\n",
    "        </li>\n",
    "        $$\\int_{a}^{b}f(x)dx\\approx\\phi^{'}\\sum_{n=1}^{n}w_if(\\phi(\\xi_i))$$\n",
    "    </ul>"
   ]
  },
  {
   "cell_type": "markdown",
   "id": "a5f156a5",
   "metadata": {
    "slideshow": {
     "slide_type": "slide"
    }
   },
   "source": [
    "<h1><center>Program design</center></h1>\n",
    "\n",
    "We need...\n",
    "<ul>\n",
    "    <li> A strategy to ensure that all numerical quadrature rules\n",
    "(=classes) provide an <b>identical interface</b> for evaluating integrals\n",
    "        </li>\n",
    "    <li>A standard way to <b>pass user-definable function</b> f(x) from outside (=main routine) to the evaluation function\n",
    "        </li>\n",
    "    </ul>"
   ]
  },
  {
   "cell_type": "markdown",
   "id": "e3ca4745",
   "metadata": {
    "slideshow": {
     "slide_type": "subslide"
    }
   },
   "source": [
    "<ul>\n",
    "    <li> <span style=color:gray;>A strategy to ensure that all numerical quadrature rules (=classes) provide an <b>identical interface</b> for evaluating integrals</span>\n",
    "        </li>\n",
    "        <ul>\n",
    "            <li> <b>Polymorphism:</b> <span style=color:blue;>Base class Quadrature</span> provides common attributes and member functions (at least their <span style=color:red;>interface declaration</span>); <span style=color:red;>derived classes implement</span> specific quadrature rule (reusing common functionality of the base class, where this is possible and makes sense)\n",
    "                </li>\n",
    "            </ul>\n",
    "    </ul>"
   ]
  },
  {
   "cell_type": "markdown",
   "id": "7adb6a72",
   "metadata": {
    "slideshow": {
     "slide_type": "subslide"
    }
   },
   "source": [
    "<ul>\n",
    "    <li> <span style=color:gray;>A standard way to <b>pass user-definable function</b> f(x) from outside (=main routine) to the evaluation function</span>\n",
    "        </li>\n",
    "        <ul>\n",
    "            <li> Function pointers (traditional approach)\n",
    "                </li>\n",
    "            <li> Lambda expressions (recommended approach since C++11)\n",
    "                </li>\n",
    "            </ul>\n",
    "    </ul>"
   ]
  },
  {
   "cell_type": "markdown",
   "id": "be00d9e9",
   "metadata": {
    "slideshow": {
     "slide_type": "slide"
    }
   },
   "source": [
    "<h1><center>Function pointers</center></h1>\n",
    "<ul>\n",
    "    <li>Define a function to be integrated\n",
    "        </li>\n",
    "    <code><span style=color:red;>const double myfunc1(double x)</span><span style=color:blue;>{ return x; }</span></code>\n",
    "    <li>Define interface of the integrate function\n",
    "        </li>\n",
    "    <code><span style=color:blue;>double integrate(</span><span style=color:red;>const double (*func)(double x)</span><span style=color:blue;>, double a, double b) { ... }</span></code>\n",
    "    <li>Usage:<code><span style=color:blue;>integrate(</span><span style=color:red;>myfunc1</span><span style=color:blue;>, 0, 1);</span></code>\n",
    "        </li>\n",
    "    </ul>"
   ]
  },
  {
   "cell_type": "markdown",
   "id": "97851d03",
   "metadata": {
    "slideshow": {
     "slide_type": "slide"
    }
   },
   "source": [
    "<h1><center>Lambda expressions</center></h1>\n",
    "<ul>\n",
    "    <li>Introduced in C++11, <b>lambda expressions</b> provide an elegant way to write user-defined callback functions\n",
    "        </li>\n",
    "    <li>General syntax\n",
    "        </li>\n",
    "    <code><span style =color:blue;>auto name =</span> <span style=color:red;>[&ltcaptures>] (&ltparameters>) {&ltbody>};</span></code>\n",
    "    <li>Lambda expressions can be inlined (anonymous functions)\n",
    "        </li>\n",
    "    <code><span style=color:blue;>integrate(</span><span style=color:red;>[&ltcaptures>](&ltparameters>) {&ltbody>}</span><span style=color:blue;>);</span></code>\n",
    "    </ul>"
   ]
  },
  {
   "cell_type": "markdown",
   "id": "b54d3253",
   "metadata": {
    "slideshow": {
     "slide_type": "subslide"
    }
   },
   "source": [
    "<ul>\n",
    "    <li> Define function to be integrated\n",
    "        </li>\n",
    "    <code><span style=color:red;>auto myfunc2 = [](double x) </span>{ return x; };</code>\n",
    "    <li> Define interface of the integration function\n",
    "        </li>\n",
    "    <code><span style=color:blue;>double integrate(</span><span style=color:red;>std::function&ltdouble(double)> func</span><span style=color:blue;>, double a, double b) const { ... }</span></code>\n",
    "    <li> Usage:\n",
    "        </li>\n",
    "    <code><span style=color:blue;>integrate(</span><span style=color:red;>myfunc2</span><span style=color:blue;>, 0, 1);</span> \n",
    " <span style=color:blue;>integrate(</span><span style=color:red;>[](double x){ return x; }</span><span style=color:blue;>, 0, 1);</span></code>\n",
    "</ul>"
   ]
  },
  {
   "cell_type": "markdown",
   "id": "44c14e8f",
   "metadata": {
    "slideshow": {
     "slide_type": "slide"
    }
   },
   "source": [
    "<h1><center>Program design, revisited</center></h1>\n",
    "<center><img src='plots/lecture2_program_design.png' width=\"700px\"></center>"
   ]
  },
  {
   "cell_type": "markdown",
   "id": "d27c3b4b",
   "metadata": {
    "slideshow": {
     "slide_type": "subslide"
    }
   },
   "source": [
    "<h1><center>Base class <code>Quadrature</code></center></h1>"
   ]
  },
  {
   "cell_type": "code",
   "execution_count": null,
   "id": "af42c59d",
   "metadata": {
    "slideshow": {
     "slide_type": "fragment"
    },
    "tags": []
   },
   "outputs": [],
   "source": [
    "class Quadrature\n",
    "{\n",
    "    public:\n",
    "        Quadrature()\n",
    "        : n(0), weights(nullptr), points(nullptr) {};\n",
    "        Quadrature(int n)\n",
    "        : n(n), weights(new double[n]), points(new double[n]) {};\n",
    "        ~Quadrature()\n",
    "        { delete[] weights; delete[] points; n=0; }\n",
    "    private:\n",
    "        double* weights;\n",
    "        double* points;\n",
    "        int     n;\n",
    "};"
   ]
  },
  {
   "cell_type": "markdown",
   "id": "84de8363",
   "metadata": {
    "slideshow": {
     "slide_type": "subslide"
    }
   },
   "source": [
    "<ul><li><i>Scenario I:</i> We want to <b>declare the interface</b> of the integrate function but we want to <i>force</i> the user to implement each integration rule individually</li>\n",
    "\n",
    "<code><span style=color:gray;>// pure (=0) virtual member function</span>\n",
    "<span style=color:red;>virtual</span> <span style = color:blue;>double integrate(double (*func)(double x), double a, double b) const </span><span style=color:red;>= 0;</span></code>\n",
    "<p><code><span style=color:gray;>// pure (=0) virtual member function</span>\n",
    "<span style=color:red;>virtual</span> <span style = color:blue;>double integrate(std::function&ltdouble(double)> func, double a, double b) const </span><span style=color:red;>= 0;</span></code></p>\n",
    "</ul>"
   ]
  },
  {
   "cell_type": "markdown",
   "id": "cdb082e1",
   "metadata": {
    "slideshow": {
     "slide_type": "fragment"
    },
    "tags": []
   },
   "source": [
    "<ul>\n",
    "<li> Keyword <code><span style=color:red;>virtual ... = 0;</span></code> declares the function to be <b>pure virtual</b>\n",
    "    </li>\n",
    "    <li>That is, each class that is derived from the <b>abstract class</b>\n",
    "<code><span style=color:blue;>Quadrature</span></code> must(!!!) implement this function explicitly\n",
    "    </li>\n",
    "    <li>Otherwise, the compiler complains when the programmer forgets to implement a pure virtual function and tries to create an object of the derived but not fully implemented class\n",
    "    </li>\n",
    "</ul>"
   ]
  },
  {
   "cell_type": "markdown",
   "id": "2699b8e1",
   "metadata": {
    "slideshow": {
     "slide_type": "skip"
    },
    "tags": []
   },
   "source": [
    "<h1><center>Abstract classes</center></h1>\n",
    "<ul>A class with at least one pure virtual function is an <b>abstract class</b> and it is not possible to create an object thereof\n",
    "    </ul>\n",
    "<center><img src='plots/lecture2_abstract_classes.png' width=\"400px\"></center>"
   ]
  },
  {
   "cell_type": "markdown",
   "id": "2fdba15b",
   "metadata": {
    "slideshow": {
     "slide_type": "slide"
    },
    "tags": []
   },
   "source": [
    "<h1><center>Base class <code>Quadrature</code></center></h1>\n",
    "<ul>\n",
    "    <li><i>Scenario II:</i> We provide a <i>generic implementation</i> but allow\n",
    "the user to override it explicitly in a derived class\n",
    "        </li>\n",
    "    <code><span style=color:red;>virtual</span> <span style = color:blue;>double integrate(double (*func)(double x), double a, double b) const </span><span style=color:red;>{...}</span></code>\n",
    "<p><code><span style=color:red;>virtual</span> <span style = color:blue;>double integrate(std::function&ltdouble(double)> func, double a, double b) const</span><span style=color:red;>{...}</span></code></p>\n",
    " <li>Keyword <span style=color:red;>virtual</span> declares the function <b>virtual</b>. Virtual functions <i>can</i> be overridden in a derived class. If no overriding takes place, then the function implementation from the base class is used\n",
    "     </li>\n",
    "    </ul>"
   ]
  },
  {
   "cell_type": "code",
   "execution_count": null,
   "id": "ecf096f8",
   "metadata": {
    "slideshow": {
     "slide_type": "subslide"
    },
    "tags": []
   },
   "outputs": [],
   "source": [
    "class Quadrature {\n",
    "    private:\n",
    "        double* weights;\n",
    "        double* points;\n",
    "        int     n;\n",
    "    \n",
    "    public:\n",
    "        Quadrature()\n",
    "        : n(0), weights(nullptr), points(nullptr) {};\n",
    "        Quadrature(int n)\n",
    "        : n(n), weights(new double[n]), points(new double[n]) {};\n",
    "        ~Quadrature()\n",
    "        { delete[] weights; delete[] points; n=0; }\n",
    "    \n",
    "    // ** pure virtual functions (implemented in derived class) ** /\n",
    "    virtual double mapping(double xi, double a, double b) const = 0;\n",
    "    virtual double factor(double a, double b) const = 0;\n",
    "    \n",
    "    // ** virtual integration function (generic implementation) ** /\n",
    "    virtual double integrate(double (*func)(double x), double a, double b) const {\n",
    "        double integral(0.0);\n",
    "        for (auto i=0; i<n; i++)\n",
    "            integral += weights[i]*func(mapping(points[i],a,b)); \n",
    "        return factor(a,b)*integral;\n",
    "    } \n",
    "};"
   ]
  },
  {
   "cell_type": "markdown",
   "id": "418667c4",
   "metadata": {
    "slideshow": {
     "slide_type": "subslide"
    }
   },
   "source": [
    "<ul>\n",
    "    <li>The <span style=color:red;>virtual</span> <code><span style=color:blue;>integrate</span></code> function makes use of the <span style=color:red;>pure virtual</span> functions <code><span style=color:blue;>factor</span></code> and <code><span style=color:blue;>mapping</span></code></li>\n",
    "    <li>Both functions are <b>not</b> implemented in class Quadrature\n",
    "        </li>\n",
    "    <li>It is therefore obvious that class <code><span style=color:blue;>Quadrature</span></code> must be an <b>abstract class</b> (and cannot be instantiated) since some of its functions (here: <code><span style=color:blue;>integrate</span></code>) are still unavailable\n",
    "        </li>\n",
    "    <li>Virtual functions make it is possible to call functions in the base class which will be implemented in the derived class\n",
    "        </li>\n",
    "</ul>"
   ]
  },
  {
   "cell_type": "markdown",
   "id": "5f8b3918",
   "metadata": {
    "slideshow": {
     "slide_type": "slide"
    }
   },
   "source": [
    "<h1><center>Class <code>MidpointRule</code></center></h1>\n",
    "<ul><li><b>Derive</b> class <span style=color:blue;>MidpointRule</span> from base class <span style=color:blue;>Quadrature</span>\n",
    "    </li>\n",
    "</ul>"
   ]
  },
  {
   "cell_type": "code",
   "execution_count": null,
   "id": "a2c64486",
   "metadata": {
    "tags": []
   },
   "outputs": [],
   "source": [
    "class MidpointRule : public Quadrature\n",
    "{\n",
    "    // Implement pure virtual functions (not used but need to be implemented!)\n",
    "    virtual double mapping(double xi, double a, double b) const  { return 0; }\n",
    "    virtual double factor(double a, double b) const { return 1; }\n",
    "    \n",
    "    // Override the implementation of the virtual integrate \n",
    "    // function from class Quadrature with own implementation \n",
    "    virtual double integrate(double (*func)(double x), double a, double b) const\n",
    "    {\n",
    "        return (b-a) * func( 0.5 * (a+b) );\n",
    "    }\n",
    "};"
   ]
  },
  {
   "cell_type": "markdown",
   "id": "4fe75525-c7ff-417d-94b1-3fee62185f9b",
   "metadata": {
    "slideshow": {
     "slide_type": "slide"
    },
    "tags": []
   },
   "source": [
    "<h1><center>Class <code>SimpsonRule</code></center></h1>\n",
    "<ul><li><b>Derive</b> class <span style=color:blue;>SimpsonRule</span> from base class <span style=color:blue;>Quadrature</span>\n",
    "    </li>\n",
    "</ul>"
   ]
  },
  {
   "cell_type": "code",
   "execution_count": null,
   "id": "c72efd90-969a-4bd4-a495-499fe88d43bd",
   "metadata": {},
   "outputs": [],
   "source": [
    "class SimpsonRule : public Quadrature\n",
    "{\n",
    "    // Implement pure virtual functions (not used but need to be implemented!)\n",
    "    virtual double mapping(double xi, double a, double b) const  { return 0; }\n",
    "    virtual double factor(double a, double b) const { return 1; }\n",
    "    \n",
    "    // Override the implementation of the virtual integrate \n",
    "    // function from class Quadrature with own implementation \n",
    "    virtual double integrate(double (*func)(double x), double a, double b) const\n",
    "    {\n",
    "        return (b-a)/6.0 * ( func(a) + 4.0 * func( 0.5*(a+b) ) + func(b) );\n",
    "    }\n",
    "};"
   ]
  },
  {
   "cell_type": "markdown",
   "id": "d74d5d82-2bbf-463c-87ef-c025d826a344",
   "metadata": {
    "slideshow": {
     "slide_type": "slide"
    },
    "tags": []
   },
   "source": [
    "<h1><center>Class <code>GaussRule</code></center></h1>\n",
    "<center><img src='plots/lecture2_gaussrule.png' width=\"700px\"></center>"
   ]
  },
  {
   "cell_type": "markdown",
   "id": "a6edea7c",
   "metadata": {
    "slideshow": {
     "slide_type": "slide"
    }
   },
   "source": [
    "<h1><center>Program design, revisited</center></h1>\n",
    "<center><img src='plots/lecture2_program_design_02.png' width=\"700px\"></center>"
   ]
  },
  {
   "cell_type": "markdown",
   "id": "050778a8",
   "metadata": {
    "slideshow": {
     "slide_type": "subslide"
    }
   },
   "source": [
    "<h1><center>Program design, revisited</center></h1>\n",
    "<center><img src='plots/lecture2_program_design_03.png' width=\"700px\"></center>"
   ]
  },
  {
   "cell_type": "markdown",
   "id": "07f62799",
   "metadata": {
    "slideshow": {
     "slide_type": "slide"
    }
   },
   "source": [
    "<h1><center>Class <code>GaussRule</code></center></h1>\n",
    "<ul>\n",
    "    <li>Attributes from base class are now visible in derived class\n",
    "        </li>\n",
    "    <li>Class <span style=color:blue;>GaussRule</span> implements functions <span style=color:blue;>factor</span> and <span style=color:blue;>mapping</span>\n",
    "        </li>\n",
    "    <li>Class <span style=color:blue;>GaussRule</span> inherits the virtual function <span style=color:blue;>integrate</span> from class <span style=color:blue;>Quadrature</span>\n",
    "        </li>\n",
    "</ul>"
   ]
  },
  {
   "cell_type": "code",
   "execution_count": null,
   "id": "b0266ffd",
   "metadata": {
    "slideshow": {
     "slide_type": "fragment"
    },
    "tags": []
   },
   "outputs": [],
   "source": [
    "class GaussRule : public Quadrature\n",
    "{\n",
    "    virtual double factor(double a, double b) const \n",
    "    { return 0.5 * (b-a); }\n",
    "    \n",
    "    virtual double mapping(double xi, double a, double b) const \n",
    "    { return 0.5 * (b-a) * xi + 0.5 * (a+b); }\n",
    "};"
   ]
  },
  {
   "cell_type": "markdown",
   "id": "82c832b4",
   "metadata": {
    "slideshow": {
     "slide_type": "slide"
    }
   },
   "source": [
    "<h1><center>Keyword: override (C++11)</center></h1>\n",
    "<ul>\n",
    "    <li>With the <span style=color:red;>override</span> keyword you can force the compiler to explicitly check that the function in a derived class\n",
    "<span style=color:red;>overrides</span> a (pure) virtual function from the base class\n",
    "        </li>\n",
    "</ul>"
   ]
  },
  {
   "cell_type": "code",
   "execution_count": null,
   "id": "c30fee81",
   "metadata": {
    "slideshow": {
     "slide_type": "fragment"
    },
    "tags": []
   },
   "outputs": [],
   "source": [
    "class GaussRule : public Quadrature\n",
    "{\n",
    "    virtual double factor(double a, double b) const override\n",
    "    { \n",
    "        return 0.5 * (b - a); \n",
    "    }\n",
    "};"
   ]
  },
  {
   "cell_type": "markdown",
   "id": "f28abb55",
   "metadata": {
    "slideshow": {
     "slide_type": "fragment"
    },
    "tags": []
   },
   "source": [
    "<ul>\n",
    "    <li>If the base class Quadrature does not specify a (pure) virtual function <span style=color:blue;>factor</span> an error will be thrown</li>\n",
    "</ul>"
   ]
  },
  {
   "cell_type": "markdown",
   "id": "b90f4ef1",
   "metadata": {
    "slideshow": {
     "slide_type": "slide"
    }
   },
   "source": [
    "<h1><center>Keyword: final (C++11)</center></h1>\n",
    "<ul>\n",
    "    <li>With the <span style=color:red;>final</span> keyword you can force the compiler to\n",
    "explicitly prevent further overriding of functions</li>\n",
    "</ul>"
   ]
  },
  {
   "cell_type": "code",
   "execution_count": null,
   "id": "6b6f86a7",
   "metadata": {
    "slideshow": {
     "slide_type": "fragment"
    },
    "tags": []
   },
   "outputs": [],
   "source": [
    "class GaussRule : public Quadrature\n",
    "{\n",
    "    virtual double factor(double a, double b) const final\n",
    "    { return 0.5*(b-a); }\n",
    "};"
   ]
  },
  {
   "cell_type": "markdown",
   "id": "2320350a",
   "metadata": {
    "slideshow": {
     "slide_type": "fragment"
    },
    "tags": []
   },
   "source": [
    "<ul>\n",
    "    <li>If a class <span style=color:blue;>GaussRuleImproved</span> derived from <span style=color:blue;>GaussRule</span> tries to override the function <span style=color:blue;>factor</span> an error will be thrown</li>\n",
    "</ul>"
   ]
  },
  {
   "cell_type": "code",
   "execution_count": null,
   "id": "dc1b07d9",
   "metadata": {},
   "outputs": [],
   "source": []
  },
  {
   "cell_type": "code",
   "execution_count": 3,
   "id": "13ca9c86",
   "metadata": {},
   "outputs": [
    {
     "ename": "NetworkError",
     "evalue": "Protocol error (Page.navigate): Cannot navigate to invalid URL",
     "output_type": "error",
     "traceback": [
      "\u001b[0;31m---------------------------------------------------------------------------\u001b[0m",
      "\u001b[0;31mNetworkError\u001b[0m                              Traceback (most recent call last)",
      "Cell \u001b[0;32mIn[3], line 72\u001b[0m\n\u001b[1;32m     63\u001b[0m pdf_output_file \u001b[38;5;241m=\u001b[39m \u001b[38;5;124m\"\u001b[39m\u001b[38;5;124mslides.pdf\u001b[39m\u001b[38;5;124m\"\u001b[39m\n\u001b[1;32m     65\u001b[0m pool \u001b[38;5;241m=\u001b[39m concurrent\u001b[38;5;241m.\u001b[39mfutures\u001b[38;5;241m.\u001b[39mThreadPoolExecutor()\n\u001b[1;32m     66\u001b[0m pool\u001b[38;5;241m.\u001b[39msubmit(\n\u001b[1;32m     67\u001b[0m     asyncio\u001b[38;5;241m.\u001b[39mrun,\n\u001b[1;32m     68\u001b[0m     html_to_pdf(\n\u001b[1;32m     69\u001b[0m         html_input_file,\n\u001b[1;32m     70\u001b[0m         pdf_output_file\n\u001b[1;32m     71\u001b[0m     ),\n\u001b[0;32m---> 72\u001b[0m )\u001b[38;5;241m.\u001b[39mresult()\n",
      "File \u001b[0;32m~/anaconda3/lib/python3.11/concurrent/futures/_base.py:456\u001b[0m, in \u001b[0;36mFuture.result\u001b[0;34m(self, timeout)\u001b[0m\n\u001b[1;32m    454\u001b[0m     \u001b[38;5;28;01mraise\u001b[39;00m CancelledError()\n\u001b[1;32m    455\u001b[0m \u001b[38;5;28;01melif\u001b[39;00m \u001b[38;5;28mself\u001b[39m\u001b[38;5;241m.\u001b[39m_state \u001b[38;5;241m==\u001b[39m FINISHED:\n\u001b[0;32m--> 456\u001b[0m     \u001b[38;5;28;01mreturn\u001b[39;00m \u001b[38;5;28mself\u001b[39m\u001b[38;5;241m.\u001b[39m__get_result()\n\u001b[1;32m    457\u001b[0m \u001b[38;5;28;01melse\u001b[39;00m:\n\u001b[1;32m    458\u001b[0m     \u001b[38;5;28;01mraise\u001b[39;00m \u001b[38;5;167;01mTimeoutError\u001b[39;00m()\n",
      "File \u001b[0;32m~/anaconda3/lib/python3.11/concurrent/futures/_base.py:401\u001b[0m, in \u001b[0;36mFuture.__get_result\u001b[0;34m(self)\u001b[0m\n\u001b[1;32m    399\u001b[0m \u001b[38;5;28;01mif\u001b[39;00m \u001b[38;5;28mself\u001b[39m\u001b[38;5;241m.\u001b[39m_exception:\n\u001b[1;32m    400\u001b[0m     \u001b[38;5;28;01mtry\u001b[39;00m:\n\u001b[0;32m--> 401\u001b[0m         \u001b[38;5;28;01mraise\u001b[39;00m \u001b[38;5;28mself\u001b[39m\u001b[38;5;241m.\u001b[39m_exception\n\u001b[1;32m    402\u001b[0m     \u001b[38;5;28;01mfinally\u001b[39;00m:\n\u001b[1;32m    403\u001b[0m         \u001b[38;5;66;03m# Break a reference cycle with the exception in self._exception\u001b[39;00m\n\u001b[1;32m    404\u001b[0m         \u001b[38;5;28mself\u001b[39m \u001b[38;5;241m=\u001b[39m \u001b[38;5;28;01mNone\u001b[39;00m\n",
      "File \u001b[0;32m~/anaconda3/lib/python3.11/concurrent/futures/thread.py:58\u001b[0m, in \u001b[0;36m_WorkItem.run\u001b[0;34m(self)\u001b[0m\n\u001b[1;32m     55\u001b[0m     \u001b[38;5;28;01mreturn\u001b[39;00m\n\u001b[1;32m     57\u001b[0m \u001b[38;5;28;01mtry\u001b[39;00m:\n\u001b[0;32m---> 58\u001b[0m     result \u001b[38;5;241m=\u001b[39m \u001b[38;5;28mself\u001b[39m\u001b[38;5;241m.\u001b[39mfn(\u001b[38;5;241m*\u001b[39m\u001b[38;5;28mself\u001b[39m\u001b[38;5;241m.\u001b[39margs, \u001b[38;5;241m*\u001b[39m\u001b[38;5;241m*\u001b[39m\u001b[38;5;28mself\u001b[39m\u001b[38;5;241m.\u001b[39mkwargs)\n\u001b[1;32m     59\u001b[0m \u001b[38;5;28;01mexcept\u001b[39;00m \u001b[38;5;167;01mBaseException\u001b[39;00m \u001b[38;5;28;01mas\u001b[39;00m exc:\n\u001b[1;32m     60\u001b[0m     \u001b[38;5;28mself\u001b[39m\u001b[38;5;241m.\u001b[39mfuture\u001b[38;5;241m.\u001b[39mset_exception(exc)\n",
      "File \u001b[0;32m~/anaconda3/lib/python3.11/asyncio/runners.py:190\u001b[0m, in \u001b[0;36mrun\u001b[0;34m(main, debug)\u001b[0m\n\u001b[1;32m    186\u001b[0m     \u001b[38;5;28;01mraise\u001b[39;00m \u001b[38;5;167;01mRuntimeError\u001b[39;00m(\n\u001b[1;32m    187\u001b[0m         \u001b[38;5;124m\"\u001b[39m\u001b[38;5;124masyncio.run() cannot be called from a running event loop\u001b[39m\u001b[38;5;124m\"\u001b[39m)\n\u001b[1;32m    189\u001b[0m \u001b[38;5;28;01mwith\u001b[39;00m Runner(debug\u001b[38;5;241m=\u001b[39mdebug) \u001b[38;5;28;01mas\u001b[39;00m runner:\n\u001b[0;32m--> 190\u001b[0m     \u001b[38;5;28;01mreturn\u001b[39;00m runner\u001b[38;5;241m.\u001b[39mrun(main)\n",
      "File \u001b[0;32m~/anaconda3/lib/python3.11/asyncio/runners.py:118\u001b[0m, in \u001b[0;36mRunner.run\u001b[0;34m(self, coro, context)\u001b[0m\n\u001b[1;32m    116\u001b[0m \u001b[38;5;28mself\u001b[39m\u001b[38;5;241m.\u001b[39m_interrupt_count \u001b[38;5;241m=\u001b[39m \u001b[38;5;241m0\u001b[39m\n\u001b[1;32m    117\u001b[0m \u001b[38;5;28;01mtry\u001b[39;00m:\n\u001b[0;32m--> 118\u001b[0m     \u001b[38;5;28;01mreturn\u001b[39;00m \u001b[38;5;28mself\u001b[39m\u001b[38;5;241m.\u001b[39m_loop\u001b[38;5;241m.\u001b[39mrun_until_complete(task)\n\u001b[1;32m    119\u001b[0m \u001b[38;5;28;01mexcept\u001b[39;00m exceptions\u001b[38;5;241m.\u001b[39mCancelledError:\n\u001b[1;32m    120\u001b[0m     \u001b[38;5;28;01mif\u001b[39;00m \u001b[38;5;28mself\u001b[39m\u001b[38;5;241m.\u001b[39m_interrupt_count \u001b[38;5;241m>\u001b[39m \u001b[38;5;241m0\u001b[39m:\n",
      "File \u001b[0;32m~/anaconda3/lib/python3.11/asyncio/base_events.py:650\u001b[0m, in \u001b[0;36mBaseEventLoop.run_until_complete\u001b[0;34m(self, future)\u001b[0m\n\u001b[1;32m    647\u001b[0m \u001b[38;5;28;01mif\u001b[39;00m \u001b[38;5;129;01mnot\u001b[39;00m future\u001b[38;5;241m.\u001b[39mdone():\n\u001b[1;32m    648\u001b[0m     \u001b[38;5;28;01mraise\u001b[39;00m \u001b[38;5;167;01mRuntimeError\u001b[39;00m(\u001b[38;5;124m'\u001b[39m\u001b[38;5;124mEvent loop stopped before Future completed.\u001b[39m\u001b[38;5;124m'\u001b[39m)\n\u001b[0;32m--> 650\u001b[0m \u001b[38;5;28;01mreturn\u001b[39;00m future\u001b[38;5;241m.\u001b[39mresult()\n",
      "Cell \u001b[0;32mIn[3], line 24\u001b[0m, in \u001b[0;36mhtml_to_pdf\u001b[0;34m(html_file, pdf_file, pyppeteer_args)\u001b[0m\n\u001b[1;32m     21\u001b[0m \u001b[38;5;28;01mawait\u001b[39;00m page\u001b[38;5;241m.\u001b[39msetViewport(\u001b[38;5;28mdict\u001b[39m(width\u001b[38;5;241m=\u001b[39m\u001b[38;5;241m994\u001b[39m, height\u001b[38;5;241m=\u001b[39m\u001b[38;5;241m768\u001b[39m))\n\u001b[1;32m     22\u001b[0m \u001b[38;5;28;01mawait\u001b[39;00m page\u001b[38;5;241m.\u001b[39memulateMedia(\u001b[38;5;124m\"\u001b[39m\u001b[38;5;124mscreen\u001b[39m\u001b[38;5;124m\"\u001b[39m)\n\u001b[0;32m---> 24\u001b[0m \u001b[38;5;28;01mawait\u001b[39;00m page\u001b[38;5;241m.\u001b[39mgoto(\u001b[38;5;124mf\u001b[39m\u001b[38;5;124m\"\u001b[39m\u001b[38;5;124mfile://\u001b[39m\u001b[38;5;132;01m{\u001b[39;00mhtml_file\u001b[38;5;132;01m}\u001b[39;00m\u001b[38;5;124m\"\u001b[39m, {\u001b[38;5;124m\"\u001b[39m\u001b[38;5;124mwaitUntil\u001b[39m\u001b[38;5;124m\"\u001b[39m: [\u001b[38;5;124m\"\u001b[39m\u001b[38;5;124mnetworkidle2\u001b[39m\u001b[38;5;124m\"\u001b[39m]})\n\u001b[1;32m     26\u001b[0m page_margins \u001b[38;5;241m=\u001b[39m {\n\u001b[1;32m     27\u001b[0m     \u001b[38;5;124m\"\u001b[39m\u001b[38;5;124mleft\u001b[39m\u001b[38;5;124m\"\u001b[39m: \u001b[38;5;124m\"\u001b[39m\u001b[38;5;124m20px\u001b[39m\u001b[38;5;124m\"\u001b[39m,\n\u001b[1;32m     28\u001b[0m     \u001b[38;5;124m\"\u001b[39m\u001b[38;5;124mright\u001b[39m\u001b[38;5;124m\"\u001b[39m: \u001b[38;5;124m\"\u001b[39m\u001b[38;5;124m20px\u001b[39m\u001b[38;5;124m\"\u001b[39m,\n\u001b[1;32m     29\u001b[0m     \u001b[38;5;124m\"\u001b[39m\u001b[38;5;124mtop\u001b[39m\u001b[38;5;124m\"\u001b[39m: \u001b[38;5;124m\"\u001b[39m\u001b[38;5;124m30px\u001b[39m\u001b[38;5;124m\"\u001b[39m,\n\u001b[1;32m     30\u001b[0m     \u001b[38;5;124m\"\u001b[39m\u001b[38;5;124mbottom\u001b[39m\u001b[38;5;124m\"\u001b[39m: \u001b[38;5;124m\"\u001b[39m\u001b[38;5;124m30px\u001b[39m\u001b[38;5;124m\"\u001b[39m,\n\u001b[1;32m     31\u001b[0m }\n\u001b[1;32m     33\u001b[0m dimensions \u001b[38;5;241m=\u001b[39m \u001b[38;5;28;01mawait\u001b[39;00m page\u001b[38;5;241m.\u001b[39mevaluate(\n\u001b[1;32m     34\u001b[0m \u001b[38;5;250m    \u001b[39m\u001b[38;5;124;03m\"\"\"() => {\u001b[39;00m\n\u001b[1;32m     35\u001b[0m \u001b[38;5;124;03m    return {\u001b[39;00m\n\u001b[0;32m   (...)\u001b[0m\n\u001b[1;32m     42\u001b[0m \u001b[38;5;124;03m}\"\"\"\u001b[39;00m\n\u001b[1;32m     43\u001b[0m )\n",
      "File \u001b[0;32m~/anaconda3/lib/python3.11/site-packages/pyppeteer/page.py:829\u001b[0m, in \u001b[0;36mPage.goto\u001b[0;34m(self, url, options, **kwargs)\u001b[0m\n\u001b[1;32m    826\u001b[0m timeout \u001b[38;5;241m=\u001b[39m options\u001b[38;5;241m.\u001b[39mget(\u001b[38;5;124m'\u001b[39m\u001b[38;5;124mtimeout\u001b[39m\u001b[38;5;124m'\u001b[39m, \u001b[38;5;28mself\u001b[39m\u001b[38;5;241m.\u001b[39m_defaultNavigationTimeout)\n\u001b[1;32m    827\u001b[0m watcher \u001b[38;5;241m=\u001b[39m NavigatorWatcher(\u001b[38;5;28mself\u001b[39m\u001b[38;5;241m.\u001b[39m_frameManager, mainFrame, timeout, options)\n\u001b[0;32m--> 829\u001b[0m result \u001b[38;5;241m=\u001b[39m \u001b[38;5;28;01mawait\u001b[39;00m \u001b[38;5;28mself\u001b[39m\u001b[38;5;241m.\u001b[39m_navigate(url, referrer)\n\u001b[1;32m    830\u001b[0m \u001b[38;5;28;01mif\u001b[39;00m result \u001b[38;5;129;01mis\u001b[39;00m \u001b[38;5;129;01mnot\u001b[39;00m \u001b[38;5;28;01mNone\u001b[39;00m:\n\u001b[1;32m    831\u001b[0m     \u001b[38;5;28;01mraise\u001b[39;00m PageError(result)\n",
      "File \u001b[0;32m~/anaconda3/lib/python3.11/site-packages/pyppeteer/page.py:843\u001b[0m, in \u001b[0;36mPage._navigate\u001b[0;34m(self, url, referrer)\u001b[0m\n\u001b[1;32m    842\u001b[0m \u001b[38;5;28;01masync\u001b[39;00m \u001b[38;5;28;01mdef\u001b[39;00m \u001b[38;5;21m_navigate\u001b[39m(\u001b[38;5;28mself\u001b[39m, url: \u001b[38;5;28mstr\u001b[39m, referrer: \u001b[38;5;28mstr\u001b[39m) \u001b[38;5;241m-\u001b[39m\u001b[38;5;241m>\u001b[39m Optional[\u001b[38;5;28mstr\u001b[39m]:\n\u001b[0;32m--> 843\u001b[0m     response \u001b[38;5;241m=\u001b[39m \u001b[38;5;28;01mawait\u001b[39;00m \u001b[38;5;28mself\u001b[39m\u001b[38;5;241m.\u001b[39m_client\u001b[38;5;241m.\u001b[39msend(\u001b[38;5;124m'\u001b[39m\u001b[38;5;124mPage.navigate\u001b[39m\u001b[38;5;124m'\u001b[39m, {\u001b[38;5;124m'\u001b[39m\u001b[38;5;124murl\u001b[39m\u001b[38;5;124m'\u001b[39m: url, \u001b[38;5;124m'\u001b[39m\u001b[38;5;124mreferrer\u001b[39m\u001b[38;5;124m'\u001b[39m: referrer})\n\u001b[1;32m    844\u001b[0m     \u001b[38;5;28;01mif\u001b[39;00m response\u001b[38;5;241m.\u001b[39mget(\u001b[38;5;124m'\u001b[39m\u001b[38;5;124merrorText\u001b[39m\u001b[38;5;124m'\u001b[39m):\n\u001b[1;32m    845\u001b[0m         \u001b[38;5;28;01mreturn\u001b[39;00m \u001b[38;5;124mf\u001b[39m\u001b[38;5;124m'\u001b[39m\u001b[38;5;132;01m{\u001b[39;00mresponse[\u001b[38;5;124m\"\u001b[39m\u001b[38;5;124merrorText\u001b[39m\u001b[38;5;124m\"\u001b[39m]\u001b[38;5;132;01m}\u001b[39;00m\u001b[38;5;124m at \u001b[39m\u001b[38;5;132;01m{\u001b[39;00murl\u001b[38;5;132;01m}\u001b[39;00m\u001b[38;5;124m'\u001b[39m\n",
      "\u001b[0;31mNetworkError\u001b[0m: Protocol error (Page.navigate): Cannot navigate to invalid URL"
     ]
    }
   ],
   "source": [
    "import asyncio\n",
    "import os\n",
    "import tempfile\n",
    "\n",
    "from subprocess import PIPE, Popen\n",
    "from pyppeteer import launch\n",
    "\n",
    "import concurrent.futures\n",
    "\n",
    "async def html_to_pdf(html_file, pdf_file, pyppeteer_args=None):\n",
    "    \"\"\"Convert a HTML file to a PDF\"\"\"\n",
    "    browser = await launch(\n",
    "        handleSIGINT=False,\n",
    "        handleSIGTERM=False,\n",
    "        handleSIGHUP=False,\n",
    "        headless=True,\n",
    "        args=[\"--no-sandbox\"],\n",
    "    )\n",
    "\n",
    "    page = await browser.newPage()\n",
    "    await page.setViewport(dict(width=994, height=768))\n",
    "    await page.emulateMedia(\"screen\")\n",
    "\n",
    "    await page.goto(f\"file://{html_file}\", {\"waitUntil\": [\"networkidle2\"]})\n",
    "\n",
    "    page_margins = {\n",
    "        \"left\": \"20px\",\n",
    "        \"right\": \"20px\",\n",
    "        \"top\": \"30px\",\n",
    "        \"bottom\": \"30px\",\n",
    "    }\n",
    "\n",
    "    dimensions = await page.evaluate(\n",
    "        \"\"\"() => {\n",
    "        return {\n",
    "            width: document.body.scrollWidth,\n",
    "            height: document.body.scrollHeight,\n",
    "            offsetWidth: document.body.offsetWidth,\n",
    "            offsetHeight: document.body.offsetHeight,\n",
    "            deviceScaleFactor: window.devicePixelRatio,\n",
    "        }\n",
    "    }\"\"\"\n",
    "    )\n",
    "    width = dimensions[\"width\"]\n",
    "    height = dimensions[\"height\"]\n",
    "\n",
    "    await page.pdf(\n",
    "        {\n",
    "            \"path\": pdf_file,\n",
    "            \"format\": \"A4\",\n",
    "            \"printBackground\": True,\n",
    "            \"margin\": page_margins,\n",
    "        }\n",
    "    )\n",
    "\n",
    "    await browser.close()\n",
    "\n",
    "\n",
    "\n",
    "if __name__ == \"__main__\":\n",
    "    \n",
    "    html_input_file = \"http://localhost:8888/notebooks/Desktop/Cpp-slides/OospCpp/notebooks/lecture2.ipynb#/slide-0-0?print-pdf\"\n",
    "    pdf_output_file = \"slides.pdf\"\n",
    "\n",
    "    pool = concurrent.futures.ThreadPoolExecutor()\n",
    "    pool.submit(\n",
    "        asyncio.run,\n",
    "        html_to_pdf(\n",
    "            html_input_file,\n",
    "            pdf_output_file\n",
    "        ),\n",
    "    ).result()"
   ]
  },
  {
   "cell_type": "code",
   "execution_count": null,
   "id": "2da6778b",
   "metadata": {},
   "outputs": [],
   "source": []
  }
 ],
 "metadata": {
  "celltoolbar": "Slideshow",
  "kernelspec": {
   "display_name": "Python 3 (ipykernel)",
   "language": "python",
   "name": "python3"
  },
  "language_info": {
   "codemirror_mode": {
    "name": "ipython",
    "version": 3
   },
   "file_extension": ".py",
   "mimetype": "text/x-python",
   "name": "python",
   "nbconvert_exporter": "python",
   "pygments_lexer": "ipython3",
   "version": "3.10.11"
  }
 },
 "nbformat": 4,
 "nbformat_minor": 5
}
